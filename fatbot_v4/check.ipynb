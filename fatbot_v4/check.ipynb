{
 "cells": [
  {
   "cell_type": "markdown",
   "metadata": {},
   "source": [
    "# [  ]"
   ]
  },
  {
   "cell_type": "code",
   "execution_count": 1,
   "metadata": {},
   "outputs": [],
   "source": [
    "import numpy as np"
   ]
  },
  {
   "cell_type": "code",
   "execution_count": 2,
   "metadata": {},
   "outputs": [
    {
     "data": {
      "text/plain": [
       "array([[2, 2, 2],\n",
       "       [5, 5, 5]])"
      ]
     },
     "execution_count": 2,
     "metadata": {},
     "output_type": "execute_result"
    }
   ],
   "source": [
    "a = np.array([[1,2,3], [4,5,6]])\n",
    "b = np.array([-1, 0, 1])\n",
    "a-b"
   ]
  },
  {
   "cell_type": "code",
   "execution_count": 2,
   "metadata": {},
   "outputs": [
    {
     "name": "stdout",
     "output_type": "stream",
     "text": [
      "Help on package fatbot:\n",
      "\n",
      "NAME\n",
      "    fatbot - # ~ fatbot ~ #\n",
      "\n",
      "PACKAGE CONTENTS\n",
      "    agents\n",
      "    common\n",
      "    core\n",
      "\n",
      "SUBMODULES\n",
      "    arenas\n",
      "    db\n",
      "    swarms\n",
      "    worlds\n",
      "\n",
      "FUNCTIONS\n",
      "    now(tz=None) method of builtins.type instance\n",
      "        Returns new datetime object representing current time local to tz.\n",
      "        \n",
      "          tz\n",
      "            Timezone object.\n",
      "        \n",
      "        If no tz is specified, uses local timezone.\n",
      "\n",
      "FILE\n",
      "    c:\\qpdb\\alpha\\_github\\fatbot\\src\\fatbot\\__init__.py\n",
      "\n",
      "\n"
     ]
    }
   ],
   "source": [
    "help(fatbot)"
   ]
  }
 ],
 "metadata": {
  "colab": {
   "collapsed_sections": [],
   "name": "Welcome.ipynb",
   "provenance": [],
   "toc_visible": true
  },
  "interpreter": {
   "hash": "570feb405e2e27c949193ac68f46852414290d515b0ba6e5d90d076ed2284471"
  },
  "kernelspec": {
   "display_name": "Python 3.8.10 64-bit",
   "language": "python",
   "name": "python3"
  },
  "language_info": {
   "codemirror_mode": {
    "name": "ipython",
    "version": 3
   },
   "file_extension": ".py",
   "mimetype": "text/x-python",
   "name": "python",
   "nbconvert_exporter": "python",
   "pygments_lexer": "ipython3",
   "version": "3.8.10"
  }
 },
 "nbformat": 4,
 "nbformat_minor": 4
}
