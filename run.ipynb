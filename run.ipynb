{
  "cells": [
    {
      "attachments": {},
      "cell_type": "markdown",
      "metadata": {},
      "source": [
        "# FATBOT RUN"
      ]
    },
    {
      "attachments": {},
      "cell_type": "markdown",
      "metadata": {},
      "source": [
        "## Prepare"
      ]
    },
    {
      "cell_type": "code",
      "execution_count": null,
      "metadata": {},
      "outputs": [],
      "source": [
        "import os\n",
        "import importlib\n",
        "import fatbot as fb\n",
        "import experiments.config as cfg\n",
        "\n",
        "results_dir = '__results__'\n",
        "os.makedirs(results_dir, exist_ok=True)\n",
        "#os.chdir(results_dir)"
      ]
    },
    {
      "attachments": {},
      "cell_type": "markdown",
      "metadata": {},
      "source": [
        "## Import Configuration"
      ]
    },
    {
      "cell_type": "code",
      "execution_count": null,
      "metadata": {},
      "outputs": [],
      "source": [
        "idb = 'db4'\n",
        "icm = 'cfg'\n",
        "icc = 'C'\n",
        "isd = 'D'\n",
        "\n",
        "alias=f'{idb}_{icm}_{icc}_{isd}'\n",
        "\n",
        "cs = importlib.import_module(f'experiments.{idb}.{icm}')\n",
        "cc = getattr(cs, icc)\n",
        "module = cc(alias=alias, common_initial_states=isd, results_dir=results_dir)\n",
        "\n",
        "module"
      ]
    },
    {
      "cell_type": "code",
      "execution_count": null,
      "metadata": {},
      "outputs": [],
      "source": [
        "module.do_check_base(episodes=3, steps=0, use_random_actions=True, verbose=0)"
      ]
    },
    {
      "cell_type": "code",
      "execution_count": null,
      "metadata": {},
      "outputs": [],
      "source": [
        "module.do_train_base()"
      ]
    },
    {
      "cell_type": "code",
      "execution_count": null,
      "metadata": {},
      "outputs": [],
      "source": [
        "module.do_test_base()"
      ]
    }
  ],
  "metadata": {
    "colab": {
      "provenance": []
    },
    "kernelspec": {
      "display_name": "Python 3",
      "name": "python3"
    },
    "language_info": {
      "codemirror_mode": {
        "name": "ipython",
        "version": 3
      },
      "file_extension": ".py",
      "mimetype": "text/x-python",
      "name": "python",
      "nbconvert_exporter": "python",
      "pygments_lexer": "ipython3",
      "version": "3.8.10"
    }
  },
  "nbformat": 4,
  "nbformat_minor": 0
}
