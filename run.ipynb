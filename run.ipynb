{
 "cells": [
  {
   "cell_type": "markdown",
   "metadata": {},
   "source": [
    "# [  ]"
   ]
  },
  {
   "cell_type": "code",
   "execution_count": null,
   "metadata": {},
   "outputs": [],
   "source": [
    "import fatbot as fb\n",
    "import torch.nn as nn\n",
    "import numpy as np\n",
    "import matplotlib.pyplot as plt\n",
    "import os"
   ]
  },
  {
   "cell_type": "markdown",
   "metadata": {},
   "source": [
    "# Setup"
   ]
  },
  {
   "cell_type": "markdown",
   "metadata": {},
   "source": [
    "### RL Algorithm"
   ]
  },
  {
   "cell_type": "code",
   "execution_count": null,
   "metadata": {},
   "outputs": [],
   "source": [
    "model_name =     'hull'\n",
    "db =             fb.db.db8\n",
    "global_isd =     'D'\n",
    "total_timesteps = 200_000\n",
    "n_steps =        2048+2048\n",
    "batch_size =     64+64\n",
    "n_epochs =      20"
   ]
  },
  {
   "cell_type": "markdown",
   "metadata": {},
   "source": [
    "### Reward Scheme"
   ]
  },
  {
   "cell_type": "code",
   "execution_count": null,
   "metadata": {},
   "outputs": [],
   "source": [
    "reward_scheme = 'hullnt'\n",
    "delta_reward = True\n",
    "scan_radius = 20\n",
    "reset_noise = (2.0, 2.0)"
   ]
  },
  {
   "cell_type": "markdown",
   "metadata": {},
   "source": [
    "### Hyperparams"
   ]
  },
  {
   "cell_type": "code",
   "execution_count": null,
   "metadata": {},
   "outputs": [],
   "source": [
    "gamma =                 0.75\n",
    "horizon =               1000\n",
    "model_version =         'base'\n",
    "model_path =            os.path.join(model_name, model_version)\n",
    "\n",
    "# learning rate scheduling\n",
    "start_lr, end_lr = 0.00050, 0.000040\n",
    "lr_mapper=fb.REMAP((-0.2,1), (start_lr, end_lr)) # set learn rate schedluer\n",
    "def lr_schedule(progress): return lr_mapper.in2map(1-progress) #lr"
   ]
  },
  {
   "cell_type": "markdown",
   "metadata": {},
   "source": [
    "# Training"
   ]
  },
  {
   "cell_type": "markdown",
   "metadata": {},
   "source": [
    "### prepare"
   ]
  },
  {
   "cell_type": "code",
   "execution_count": null,
   "metadata": {},
   "outputs": [],
   "source": [
    "\n",
    "# initial state distribution - uniformly sample from all listed states\n",
    "initial_state_keys =  db.isd[global_isd] # [db.isd[db.isd_keys[0]]] #[v for k,v in db.isd.items()] \n",
    "print(f'Total Initial States: {len(initial_state_keys)}')\n",
    "\n",
    "# build training env\n",
    "training_env = db.envF(\n",
    "  testing=False, \n",
    "  scan_radius=scan_radius, \n",
    "  reset_noise=reset_noise, \n",
    "  horizon=horizon, \n",
    "  scheme=reward_scheme, \n",
    "  delta_reward=delta_reward, \n",
    "  point_list=initial_state_keys, \n",
    "  state_history=False)\n",
    "\n",
    "\n",
    "#<---- optinally check\n",
    "fb.check_env(training_env) "
   ]
  },
  {
   "cell_type": "code",
   "execution_count": null,
   "metadata": {},
   "outputs": [],
   "source": [
    "training_env.reset()\n",
    "_=training_env.render()"
   ]
  },
  {
   "cell_type": "markdown",
   "metadata": {},
   "source": [
    "### perform training"
   ]
  },
  {
   "cell_type": "code",
   "execution_count": null,
   "metadata": {},
   "outputs": [],
   "source": [
    "# start training\n",
    "training_start_time = fb.common.now()\n",
    "print(f'Training @ [{model_path}]')\n",
    "model = fb.PPO(policy=      'MlpPolicy', \n",
    "        env=                training_env, \n",
    "        learning_rate =     lr_schedule,\n",
    "        n_steps=            n_steps,\n",
    "        batch_size =        batch_size,\n",
    "        n_epochs =          n_epochs,\n",
    "        gamma =             gamma,\n",
    "        gae_lambda=         0.95,\n",
    "        clip_range=         0.20, \n",
    "        clip_range_vf=      None, \n",
    "        normalize_advantage=True, \n",
    "        ent_coef=           0.0, \n",
    "        vf_coef=            0.5, \n",
    "        max_grad_norm=      0.5, \n",
    "        use_sde=            False, \n",
    "        sde_sample_freq=    -1, \n",
    "        target_kl=          None, \n",
    "        tensorboard_log=    None, \n",
    "        create_eval_env=    False, \n",
    "        verbose=            0, \n",
    "        seed=               None, \n",
    "        device=             'cpu', \n",
    "        _init_setup_model=  True,\n",
    "        policy_kwargs=dict(\n",
    "                        activation_fn=  nn.LeakyReLU, \n",
    "                        net_arch=[dict(\n",
    "                            pi=[512, 512, 300], \n",
    "                            vf=[512, 512, 300])])) #256, 256, 256, 128, 128\n",
    "\n",
    "model.learn(total_timesteps=total_timesteps,log_interval=int(0.1*total_timesteps))\n",
    "model.save(model_path)\n",
    "training_end_time = fb.common.now()\n",
    "print(f'Finished!, Time-Elapsed:[{training_end_time-training_start_time}]')"
   ]
  },
  {
   "cell_type": "markdown",
   "metadata": {},
   "source": [
    "# Testing"
   ]
  },
  {
   "cell_type": "code",
   "execution_count": null,
   "metadata": {},
   "outputs": [],
   "source": [
    "model = fb.PPO.load(model_path)\n",
    "model, model_path"
   ]
  },
  {
   "cell_type": "markdown",
   "metadata": {},
   "source": [
    "### prepare"
   ]
  },
  {
   "cell_type": "code",
   "execution_count": null,
   "metadata": {},
   "outputs": [],
   "source": [
    "\n",
    "# initial state distribution - uniformly sample from all listed states\n",
    "initial_state_keys =  db.isd[global_isd] # [db.isd[db.isd_keys[0]]] #[v for k,v in db.isd.items()] \n",
    "print(f'Total Initial States: {len(initial_state_keys)}')\n",
    "\n",
    "# build training env\n",
    "testing_env = db.envF(\n",
    "  testing=True, \n",
    "  scan_radius=scan_radius, \n",
    "  reset_noise=reset_noise, \n",
    "  horizon=horizon, \n",
    "  scheme=reward_scheme, \n",
    "  delta_reward=delta_reward, \n",
    "  point_list=initial_state_keys, \n",
    "  state_history=False)\n",
    "\n"
   ]
  },
  {
   "cell_type": "markdown",
   "metadata": {},
   "source": [
    "### perform testing"
   ]
  },
  {
   "cell_type": "code",
   "execution_count": null,
   "metadata": {},
   "outputs": [],
   "source": [
    "print(f'Testing @ [{model_path}]')\n",
    "average_return, total_steps, sehist, tehist = fb.TEST(\n",
    "    env=testing_env, \n",
    "    model=model, \n",
    "    episodes=1, \n",
    "    steps=0, \n",
    "    deterministic=True, \n",
    "    render_as='None', \n",
    "    save_dpi='figure', \n",
    "    make_video=False,\n",
    "    video_fps=1,\n",
    "    render_kwargs=dict(local_sensors=True, reward_signal=True, fill_bots=False, state_hist_marker='o'),\n",
    "    starting_state=None,\n",
    "    plot_results=0,\n",
    "    start_n=0,\n",
    "    reverb=1,\n",
    "    plot_end_states=False,\n",
    "    save_states='',\n",
    "    save_prefix=''\n",
    ")\n",
    "print(f'{average_return=}, {total_steps=}, {sehist=}, {len(tehist)=}')\n",
    "\n",
    "\n"
   ]
  },
  {
   "cell_type": "code",
   "execution_count": null,
   "metadata": {},
   "outputs": [],
   "source": [
    "testing_env.reset()"
   ]
  },
  {
   "cell_type": "code",
   "execution_count": null,
   "metadata": {},
   "outputs": [],
   "source": [
    "_=testing_env.render()"
   ]
  },
  {
   "cell_type": "code",
   "execution_count": null,
   "metadata": {},
   "outputs": [],
   "source": [
    "testing_env.step(np.array([0, 0,   0, 0,   0, 0,    0, 0,    0, -1,    0, 0], dtype=np.float32))"
   ]
  },
  {
   "cell_type": "code",
   "execution_count": null,
   "metadata": {},
   "outputs": [],
   "source": [
    "from scipy.spatial import ConvexHull, convex_hull_plot_2d"
   ]
  },
  {
   "cell_type": "code",
   "execution_count": null,
   "metadata": {},
   "outputs": [],
   "source": [
    "hull = ConvexHull(testing_env.xy)\n",
    "print(len(hull.vertices), testing_env.N_BOTS, int(len(hull.vertices)==testing_env.N_BOTS))\n",
    "convex_hull_plot_2d(hull)"
   ]
  },
  {
   "cell_type": "code",
   "execution_count": null,
   "metadata": {},
   "outputs": [],
   "source": []
  },
  {
   "cell_type": "code",
   "execution_count": null,
   "metadata": {},
   "outputs": [],
   "source": []
  }
 ],
 "metadata": {
  "colab": {
   "collapsed_sections": [],
   "name": "Welcome.ipynb",
   "provenance": [],
   "toc_visible": true
  },
  "kernelspec": {
   "display_name": "Python 3.8.10 64-bit",
   "language": "python",
   "name": "python3"
  },
  "language_info": {
   "codemirror_mode": {
    "name": "ipython",
    "version": 3
   },
   "file_extension": ".py",
   "mimetype": "text/x-python",
   "name": "python",
   "nbconvert_exporter": "python",
   "pygments_lexer": "ipython3",
   "version": "3.8.10"
  },
  "vscode": {
   "interpreter": {
    "hash": "570feb405e2e27c949193ac68f46852414290d515b0ba6e5d90d076ed2284471"
   }
  }
 },
 "nbformat": 4,
 "nbformat_minor": 4
}
