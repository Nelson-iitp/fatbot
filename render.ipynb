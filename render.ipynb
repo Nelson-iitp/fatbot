{
  "cells": [
    {
      "attachments": {},
      "cell_type": "markdown",
      "metadata": {},
      "source": [
        "# RENDER"
      ]
    },
    {
      "attachments": {},
      "cell_type": "markdown",
      "metadata": {},
      "source": [
        "#### ! (demo figure) render env"
      ]
    },
    {
      "cell_type": "code",
      "execution_count": null,
      "metadata": {},
      "outputs": [],
      "source": [
        "import experiments.db3.db as db\n",
        "\n",
        "import matplotlib.pyplot as plt"
      ]
    },
    {
      "cell_type": "code",
      "execution_count": null,
      "metadata": {},
      "outputs": [],
      "source": [
        "env=db.envF(\n",
        "    alias='test',\n",
        "    testing=True,\n",
        "    reward_scheme=dict(\n",
        "            dis_target_point=           1.0,\n",
        "            dis_neighbour=              0.0,\n",
        "            hull_formed=                0.0,\n",
        "            dis_target_radius=          1.0,\n",
        "            all_unsafe=                 1.0,\n",
        "            all_neighbour=              1.0,\n",
        "            occluded_neighbour=         1.0,\n",
        "        ) ,\n",
        "    record_state_history=False, \n",
        "    initial_states=db.isdF(names='A', target_point=(70,70), target_radius=2.0, reset_noise=0.0, validation=False)\n",
        ")"
      ]
    },
    {
      "cell_type": "code",
      "execution_count": null,
      "metadata": {},
      "outputs": [],
      "source": [
        "env.reset()\n",
        "fig=env.render(local_sensors=False, reward_signal=False, fill_bots=False, show_com=2)\n",
        "plt.show()\n",
        "fig.savefig('A.png')"
      ]
    },
    {
      "cell_type": "code",
      "execution_count": null,
      "metadata": {},
      "outputs": [],
      "source": [
        "s=db.isdF(names='B', target_point=(7,-7), target_radius=2.0, reset_noise=0.0, validation=False)[0]\n",
        "s.points[1]=(100,100)\n",
        "env=db.envF(\n",
        "    alias='test',\n",
        "    testing=True,\n",
        "    reward_scheme=dict(\n",
        "            dis_target_point=           1.0,\n",
        "            dis_neighbour=              0.0,\n",
        "            hull_formed=                0.0,\n",
        "            dis_target_radius=          1.0,\n",
        "            all_unsafe=                 1.0,\n",
        "            all_neighbour=              1.0,\n",
        "            occluded_neighbour=         1.0,\n",
        "        ) ,\n",
        "    record_state_history=False, \n",
        "    initial_states=[s]\n",
        ")"
      ]
    },
    {
      "cell_type": "code",
      "execution_count": null,
      "metadata": {},
      "outputs": [],
      "source": [
        "env.reset()\n",
        "fig=env.render(local_sensors=False, reward_signal=False, fill_bots=False, show_com=2)\n",
        "plt.show()\n",
        "fig.savefig('B.png')"
      ]
    },
    {
      "attachments": {},
      "cell_type": "markdown",
      "metadata": {},
      "source": [
        "# render select"
      ]
    },
    {
      "cell_type": "code",
      "execution_count": null,
      "metadata": {
        "id": "rF-BP939c-0k"
      },
      "outputs": [],
      "source": [
        "import matplotlib.pyplot as plt\n",
        "import os\n",
        "import numpy as np\n",
        "results_dir = '__results__'\n",
        "#os.makedirs(results_dir, exist_ok=True)\n",
        "os.chdir(results_dir)\n",
        "\n",
        "#import argparse\n",
        "import importlib\n",
        "from fatbot import FAKE\n",
        "\n",
        "dbs = ['db6', 'db8', 'db10']#, \n",
        "\n",
        "exper = [\n",
        "    ('D', 'CD'),\n",
        "    ('P', 'CP'),\n",
        "    ('S', 'CS'),\n",
        "    ('D', 'CC'),\n",
        "    ('P', 'CC'),\n",
        "    ('S', 'CC'),\n",
        "]\n"
      ]
    },
    {
      "attachments": {},
      "cell_type": "markdown",
      "metadata": {},
      "source": [
        "# render n_STEPS"
      ]
    },
    {
      "cell_type": "code",
      "execution_count": null,
      "metadata": {},
      "outputs": [],
      "source": [
        "episodes = 20"
      ]
    },
    {
      "cell_type": "code",
      "execution_count": null,
      "metadata": {},
      "outputs": [],
      "source": [
        "for db in dbs:\n",
        "    kalias = {}\n",
        "    for sd,cc in exper:\n",
        "        argc =  FAKE(\n",
        "            db=     db,\n",
        "            cs=     'config',\n",
        "            cc=     cc,\n",
        "            sd=     sd)\n",
        "\n",
        "        #runs = [bool(int(i)) for i in argc.run]\n",
        "\n",
        "        cs = importlib.import_module(f'experiments.{argc.db}.{argc.cs}')\n",
        "        cc = getattr(cs, argc.cc)\n",
        "        alias = f'{argc.db}_{argc.cs}_{argc.cc}_{argc.sd}'\n",
        "        module = cc(alias=alias, common_initial_states=argc.sd)\n",
        "\n",
        "        #module.do_final_test()\n",
        "\n",
        "        #print('alias')\n",
        "        \n",
        "        average_return, avg_steps, sehist, tehist, test_history, fi, ff, switch_history=\\\n",
        "            module.do_final_test_(episodes=episodes)\n",
        "        print(len(tehist)==len(switch_history))\n",
        "        if (len(tehist)==len(switch_history)):\n",
        "            #print(f'...adding {alias} :: {len(tehist)}=={len(switch_history)}')\n",
        "            ka = []\n",
        "            for t,s in zip(tehist, switch_history): ka.append([s, len(t)-s, len(t) ])\n",
        "            ka = np.array(ka)\n",
        "            kalias[alias]=ka\n",
        "            #print(f'...adding {alias} :: {ka.shape}::{ka}')\n",
        "        else:\n",
        "            print(f'...skipping {alias} :: {len(tehist)}!={len(switch_history)}')\n",
        "            #kalias[alias]=None\n",
        "    # for k,v in kalias.items():\n",
        "    #     fig, ax=plt.subplots(3, 1, figsize=(12,8))\n",
        "        \n",
        "    #     for i in range(3):\n",
        "    #         ax[i].plot(v[:, i])\n",
        "    #         ax[i].set_ylim(bottom=0)\n",
        "            \n",
        "\n",
        "    #     plt.show()\n",
        "\n",
        "    jalias = {}\n",
        "    for k,v in kalias.items():\n",
        "        jalias[k] = np.mean(v, axis=0)\n",
        "\n",
        "    np.savez(f'{db}_{episodes}.npz', **kalias)\n"
      ]
    },
    {
      "cell_type": "code",
      "execution_count": null,
      "metadata": {},
      "outputs": [],
      "source": []
    },
    {
      "cell_type": "code",
      "execution_count": null,
      "metadata": {},
      "outputs": [],
      "source": [
        "for db in dbs:\n",
        "    npz=np.load(f'{db}_{episodes}.npz')\n",
        "    for k in npz.keys():\n",
        "        print(k, np.mean(npz[k],axis=0))\n",
        "    npz.close()\n",
        "    # results 2"
      ]
    },
    {
      "cell_type": "code",
      "execution_count": null,
      "metadata": {},
      "outputs": [],
      "source": [
        "\"\"\"\n",
        "db6_config_CD_D [47.9 47.  94.9]\n",
        "db6_config_CP_P [67.55 32.   99.55]\n",
        "db6_config_CS_S [ 50.7   51.75 102.45]\n",
        "db6_config_CC_D [ 53.7   46.55 100.25]\n",
        "db6_config_CC_P [ 34.8  77.8 112.6]\n",
        "db6_config_CC_S [39.75 36.85 76.6 ]\n",
        "db8_config_CD_D [ 56.75  61.3  118.05]\n",
        "db8_config_CP_P [59.7 29.8 89.5]\n",
        "db8_config_CS_S [ 51.25  62.65 113.9 ]\n",
        "db8_config_CC_D [ 80.35  64.85 145.2 ]\n",
        "db8_config_CC_P [ 46.6   59.45 106.05]\n",
        "db8_config_CC_S [ 45.  112.5 157.5]\n",
        "db10_config_CD_D [ 73.1   96.45 169.55]\n",
        "db10_config_CP_P [ 60.2   82.35 142.55]\n",
        "db10_config_CS_S [ 67.3  96.1 163.4]\n",
        "db10_config_CC_D [ 79.7   78.95 158.65]\n",
        "db10_config_CC_P [ 44.05  91.   135.05]\n",
        "db10_config_CC_S [ 65.05  84.55 149.6 ]\n",
        "\"\"\""
      ]
    },
    {
      "attachments": {},
      "cell_type": "markdown",
      "metadata": {},
      "source": []
    },
    {
      "attachments": {},
      "cell_type": "markdown",
      "metadata": {},
      "source": [
        "# render animation"
      ]
    },
    {
      "cell_type": "code",
      "execution_count": null,
      "metadata": {},
      "outputs": [],
      "source": [
        "db = dbs[1]\n",
        "exper = [\n",
        "    #('D', 'CD'),\n",
        "    #('P', 'CP'),\n",
        "    #('S', 'CS'),\n",
        "    ('D', 'CC'),\n",
        "    ('P', 'CC'),\n",
        "    ('S', 'CC'),\n",
        "]\n",
        "for sd,cc in exper:\n",
        "    argc =  FAKE(\n",
        "        db=     db,\n",
        "        cs=     'config',\n",
        "        cc=     cc,\n",
        "        sd=     sd)\n",
        "\n",
        "    cs = importlib.import_module(f'experiments.{argc.db}.{argc.cs}')\n",
        "    cc = getattr(cs, argc.cc)\n",
        "    alias = f'{argc.db}_{argc.cs}_{argc.cc}_{argc.sd}'\n",
        "    module = cc(alias=alias, common_initial_states=argc.sd)\n",
        "    print(f'{alias=}')\n",
        "    module.do_final_test()\n",
        "\n",
        "    \n"
      ]
    },
    {
      "cell_type": "code",
      "execution_count": null,
      "metadata": {},
      "outputs": [],
      "source": []
    },
    {
      "cell_type": "code",
      "execution_count": null,
      "metadata": {},
      "outputs": [],
      "source": []
    }
  ],
  "metadata": {
    "colab": {
      "provenance": []
    },
    "kernelspec": {
      "display_name": "Python 3",
      "language": "python",
      "name": "python3"
    },
    "language_info": {
      "codemirror_mode": {
        "name": "ipython",
        "version": 3
      },
      "file_extension": ".py",
      "mimetype": "text/x-python",
      "name": "python",
      "nbconvert_exporter": "python",
      "pygments_lexer": "ipython3",
      "version": "3.8.10"
    },
    "vscode": {
      "interpreter": {
        "hash": "570feb405e2e27c949193ac68f46852414290d515b0ba6e5d90d076ed2284471"
      }
    }
  },
  "nbformat": 4,
  "nbformat_minor": 0
}
