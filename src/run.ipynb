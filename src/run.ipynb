{
 "cells": [
  {
   "cell_type": "markdown",
   "metadata": {},
   "source": [
    "# [ fatbot - run script ]"
   ]
  },
  {
   "cell_type": "code",
   "execution_count": null,
   "metadata": {},
   "outputs": [],
   "source": [
    "from fatbot.common import fake, sip_video\n",
    "from run import main   \n",
    "def train_world_ppo(w):\n",
    "    main(fake(dict(\n",
    "        world=w,             # required\n",
    "        trainer=f'ppo_{w}',  # when trainer is given, other args dont matter\n",
    "        \n",
    "        # tester will work when trainer is False\n",
    "        tester='',          # keep blank for random testing\n",
    "        steps=0,            # max_episode_steps, keep 0 for infinite horizon\n",
    "        deter=1,            # 1 for deterministic, 0 for stohcastic\n",
    "        savefig='',         # if not blank, saves all the rendered figures to this path\n",
    "\n",
    "        # meta args\n",
    "        plot=False          # (disables plt.show() and calls plt.close())\n",
    "        )))\n",
    "\n",
    "def test_world_ppo(w, steps=0, deter=1, savefig=''):\n",
    "    main(fake(dict(\n",
    "        world=w,              # required\n",
    "        trainer='',           # is blank in testing mode\n",
    "        \n",
    "        tester=f'ppo_{w}', \n",
    "        steps=steps, \n",
    "        deter=deter, \n",
    "        savefig=savefig, \n",
    "\n",
    "        # meta args\n",
    "        plot=not(savefig) # do not show plots if saving figures\n",
    "        )))"
   ]
  },
  {
   "cell_type": "markdown",
   "metadata": {},
   "source": [
    "### [ + ] Select World"
   ]
  },
  {
   "cell_type": "code",
   "execution_count": null,
   "metadata": {},
   "outputs": [],
   "source": [
    "world_names = ['world_o4','world_o5', 'world_o6'] # 'world_o5', 'world_o6'] #['world_x7', 'world_x8', ]"
   ]
  },
  {
   "cell_type": "markdown",
   "metadata": {},
   "source": [
    "### [ * ] Dummy Calls"
   ]
  },
  {
   "cell_type": "code",
   "execution_count": null,
   "metadata": {},
   "outputs": [],
   "source": [
    "for world_name in world_names:\n",
    "    main(fake(dict(world=world_name, trainer='', steps=5, deter=1, tester='', savefig=f'random_testing_{world_name}', plot=False)))\n",
    "    #sip_video(f'random_testing_{world_name}', video_path=f'vid_ppo_{world_name}.avi')"
   ]
  },
  {
   "cell_type": "markdown",
   "metadata": {},
   "source": [
    "### [ @ ] **Training Call**"
   ]
  },
  {
   "cell_type": "code",
   "execution_count": null,
   "metadata": {},
   "outputs": [],
   "source": [
    "for world_name in world_names:\n",
    "    train_world_ppo(world_name)"
   ]
  },
  {
   "cell_type": "markdown",
   "metadata": {},
   "source": [
    "### [ @ ] **Testing Call**"
   ]
  },
  {
   "cell_type": "code",
   "execution_count": null,
   "metadata": {},
   "outputs": [],
   "source": [
    "save_figures=True\n",
    "deterministic_run = 1\n",
    "max_steps = 350\n",
    "\n",
    "for world_name in world_names:\n",
    "    test_world_ppo(world_name, steps=max_steps, deter=deterministic_run, \n",
    "    savefig=(f'fig_ppo_{world_name}_{deterministic_run}' if save_figures else ''))"
   ]
  },
  {
   "cell_type": "markdown",
   "metadata": {},
   "source": [
    "### [ % ] Record Episode"
   ]
  },
  {
   "cell_type": "code",
   "execution_count": null,
   "metadata": {},
   "outputs": [],
   "source": [
    "for world_name in world_names:\n",
    "    sip_video(f'fig_ppo_{world_name}_{deterministic_run}', video_path=f'vid_ppo_{world_name}_{deterministic_run}.avi')"
   ]
  }
 ],
 "metadata": {
  "colab": {
   "collapsed_sections": [],
   "name": "Welcome.ipynb",
   "provenance": [],
   "toc_visible": true
  },
  "interpreter": {
   "hash": "570feb405e2e27c949193ac68f46852414290d515b0ba6e5d90d076ed2284471"
  },
  "kernelspec": {
   "display_name": "Python 3.8.10 64-bit",
   "language": "python",
   "name": "python3"
  },
  "language_info": {
   "codemirror_mode": {
    "name": "ipython",
    "version": 3
   },
   "file_extension": ".py",
   "mimetype": "text/x-python",
   "name": "python",
   "nbconvert_exporter": "python",
   "pygments_lexer": "ipython3",
   "version": "3.8.10"
  }
 },
 "nbformat": 4,
 "nbformat_minor": 4
}
